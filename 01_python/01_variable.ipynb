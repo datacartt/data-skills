{
 "cells": [
  {
   "cell_type": "markdown",
   "metadata": {
    "id": "hglQqtYnOtRb"
   },
   "source": [
    "# 01 변수 (variable)\n",
    "---"
   ]
  },
  {
   "cell_type": "markdown",
   "metadata": {
    "id": "Ksh0jCpNM5OJ"
   },
   "source": [
    "## **[1] 변수란?**\n",
    "- 데이터를 저장하고 추후에 사용할 수 있게 해주는 저장 공간\n",
    "- `변수 이름 = 저장할 값`\n",
    "- `a = b = 저장할 값`\n",
    "- `a, b = a에 저장할 값, b에 저장할 값`"
   ]
  },
  {
   "cell_type": "code",
   "execution_count": 1,
   "metadata": {
    "id": "TbvpQWBiU1vq"
   },
   "outputs": [
    {
     "name": "stdout",
     "output_type": "stream",
     "text": [
      "110\n"
     ]
    }
   ],
   "source": [
    "a = 100\n",
    "b = 10\n",
    "print(a + b)"
   ]
  },
  {
   "cell_type": "code",
   "execution_count": 2,
   "metadata": {
    "id": "_RfLOyg0W2ja"
   },
   "outputs": [
    {
     "name": "stdout",
     "output_type": "stream",
     "text": [
      "1000\n",
      "2000\n"
     ]
    }
   ],
   "source": [
    "a, b = 1000, 2000\n",
    "print(a)\n",
    "print(b)"
   ]
  },
  {
   "cell_type": "code",
   "execution_count": 3,
   "metadata": {
    "id": "XRHOlr3QW6M2"
   },
   "outputs": [
    {
     "name": "stdout",
     "output_type": "stream",
     "text": [
      "500\n",
      "500\n"
     ]
    }
   ],
   "source": [
    "a = b = 500\n",
    "print(a)\n",
    "print(b)"
   ]
  },
  {
   "cell_type": "markdown",
   "metadata": {
    "id": "eDnCvIKbPYfq"
   },
   "source": [
    "## **[2] 변수명 주의사항**\n",
    "- 숫자가 맨 앞에 올 수 없음\n",
    "- 언더바 외 특수문자가 들어갈 수 없음\n",
    "- 공백이 들어갈 수 없음"
   ]
  },
  {
   "cell_type": "markdown",
   "metadata": {
    "id": "BA51cEVPSNFz"
   },
   "source": [
    "## **[3] 변수의 종류 (자료형)**\n",
    "1. 숫자형\n",
    "2. 문자형\n",
    "3. 리스트(list)\n",
    "4. 튜플(tuple)\n",
    "5. 딕셔너리(dict)\n",
    "6. 집합(set)"
   ]
  },
  {
   "cell_type": "code",
   "execution_count": 4,
   "metadata": {
    "id": "EAEBXgF1S5XC"
   },
   "outputs": [],
   "source": [
    "# 숫자형\n",
    "a = 1\n",
    "b = 0.1\n",
    "\n",
    "# 문자형\n",
    "c = \"Hello, World\"\n",
    "\n",
    "# 리스트 (list)\n",
    "d = [1, 2, \"Hello, World\", b]\n",
    "\n",
    "# 튜플 (tuple)\n",
    "e = (1, 2, 3, 'a')\n",
    "\n",
    "# 딕셔너리 (dict)\n",
    "f = {'a': 1, 'b': 2}\n",
    "\n",
    "# 집합 (set)\n",
    "g = {1, 2, 3, 3}"
   ]
  },
  {
   "cell_type": "code",
   "execution_count": 5,
   "metadata": {
    "id": "scVyoTCBnNq6"
   },
   "outputs": [
    {
     "name": "stdout",
     "output_type": "stream",
     "text": [
      "1\n",
      "<class 'int'>\n",
      "\n",
      "0.1\n",
      "<class 'float'>\n",
      "\n",
      "Hello, World\n",
      "<class 'str'>\n",
      "\n",
      "[1, 2, 'Hello, World', 0.1]\n",
      "<class 'list'>\n",
      "\n",
      "(1, 2, 3, 'a')\n",
      "<class 'tuple'>\n",
      "\n",
      "{'a': 1, 'b': 2}\n",
      "<class 'dict'>\n",
      "\n",
      "{1, 2, 3}\n",
      "<class 'set'>\n",
      "\n"
     ]
    }
   ],
   "source": [
    "for i in [a, b, c, d, e, f, g]:\n",
    "    print(i)\n",
    "    print(type(i))\n",
    "    print()"
   ]
  }
 ],
 "metadata": {
  "colab": {
   "provenance": []
  },
  "kernelspec": {
   "display_name": "Python 3 (ipykernel)",
   "language": "python",
   "name": "python3"
  },
  "language_info": {
   "codemirror_mode": {
    "name": "ipython",
    "version": 3
   },
   "file_extension": ".py",
   "mimetype": "text/x-python",
   "name": "python",
   "nbconvert_exporter": "python",
   "pygments_lexer": "ipython3",
   "version": "3.13.5"
  }
 },
 "nbformat": 4,
 "nbformat_minor": 4
}
